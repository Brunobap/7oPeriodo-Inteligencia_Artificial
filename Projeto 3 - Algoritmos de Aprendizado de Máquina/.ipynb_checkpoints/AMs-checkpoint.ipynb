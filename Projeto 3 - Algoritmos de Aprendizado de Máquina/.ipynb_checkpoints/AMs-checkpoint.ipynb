{
 "cells": [
  {
   "cell_type": "markdown",
   "id": "f5683def-19d9-44ac-9e7a-abe8828172e1",
   "metadata": {},
   "source": [
    "# Bruno R. Batista - Projeto 3: Algoritmos de Aprendizado de Máquina\n",
    "\n",
    "Base de dados analisada: Breast Cancer (#9)\n",
    "\n",
    "Arquivo anterior (tratamento de dados): prj02.py"
   ]
  },
  {
   "cell_type": "code",
   "execution_count": 1,
   "id": "80b3ad9c-308b-4006-b7c3-737afc02b197",
   "metadata": {},
   "outputs": [],
   "source": [
    "#pip install scikit-learn"
   ]
  },
  {
   "cell_type": "code",
   "execution_count": 2,
   "id": "5397a06a-d6e5-4bf8-be3d-8753aa6f1ebc",
   "metadata": {},
   "outputs": [],
   "source": [
    "#pip install numpy==1.24.0"
   ]
  },
  {
   "cell_type": "code",
   "execution_count": 3,
   "id": "0d555f14-1e8c-449d-b3bd-a56899629d01",
   "metadata": {
    "scrolled": true
   },
   "outputs": [
    {
     "name": "stdout",
     "output_type": "stream",
     "text": [
      "Dados carregados\n",
      "\n",
      "Tipos de entrada possíveis por coluna:\n",
      "[['no-recurrence-events', 'recurrence-events'], ['10-19', '20-29', '30-39', '40-49', '50-59', '60-69', '70-79', '80-89', '90-99'], ['lt40', 'ge40', 'premeno'], ['0-4', '5-9', '10-14', '15-19', '20-24', '25-29', '30-34', '35-39', '40-44', '45-49', '50-54', '55-59'], ['0-2', '3-5', '6-8', '9-11', '12-14', '15-17', '18-20', '21-23', '24-26', '27-29', '30-32', '33-35', '36-39'], ['yes', 'no'], ['1', '2', '3'], ['left', 'right'], ['left_up', 'left_low', 'right_up', 'right_low', 'central'], ['no', 'yes']]\n",
      "\n",
      "Tipos de cada atributos:\n",
      "{'Class': 'qualitativo nominal', 'age': 'qualitativo intervalar', 'menopause': 'qualitativo nominal', 'tumor-size': 'qualitativo intervalar', 'inv-nodes': 'qualitativo intervalar', 'node-caps': 'qualitativo nominal', 'deg-malig': 'qualitativo ordinal', 'breast': 'qualitativo nominal', 'breast-quad': 'qualitativo nominal', 'irradiat': 'qualitativo nominal'}\n",
      "Atributo 'Class':\n",
      "\tModa - no-recurrence-events\n",
      "\tFrequências - {'no-recurrence-events': 201, 'recurrence-events': 85}\n",
      "\n",
      "Atributo 'age':\n",
      "\tMédia ponderada - 51.14335664335665\n",
      "\tMediana - 54.5\n",
      "\tFrequências - {'20-29': 1, '30-39': 36, '40-49': 90, '50-59': 96, '60-69': 57, '70-79': 6}\n",
      "\tQuartil 1 (25%) - 44.5\n",
      "\tQuartil 2 (50%) - 54.5\n",
      "\tQuartil 3 (75%) - 64.5\n",
      "\n",
      "Atributo 'menopause':\n",
      "\tModa - premeno\n",
      "\tFrequências - {'ge40': 129, 'lt40': 7, 'premeno': 150}\n",
      "\n",
      "Atributo 'tumor-size':\n",
      "\tMédia ponderada - 26.405594405594407\n",
      "\tMediana - 37.0\n",
      "\tFrequências - {'0-4': 8, '10-14': 28, '15-19': 30, '20-24': 50, '25-29': 54, '30-34': 60, '35-39': 19, '40-44': 22, '45-49': 3, '5-9': 4, '50-54': 8}\n",
      "\tQuartil 1 (25%) - 17.0\n",
      "\tQuartil 2 (50%) - 37.0\n",
      "\tQuartil 3 (75%) - 22.0\n",
      "\n",
      "Atributo 'inv-nodes':\n",
      "\tMédia ponderada - 2.5734265734265733\n",
      "\tMediana - 1.0\n",
      "\tFrequências - {'0-2': 213, '12-14': 3, '15-17': 6, '24-26': 1, '3-5': 36, '6-8': 17, '9-11': 10}\n",
      "\tQuartil 1 (25%) - 1.0\n",
      "\tQuartil 2 (50%) - 1.0\n",
      "\tQuartil 3 (75%) - 1.0\n",
      "\n",
      "Atributo 'node-caps':\n",
      "\tModa - no\n",
      "\tFrequências - {'?': 8, 'no': 222, 'yes': 56}\n",
      "\n",
      "Atributo 'deg-malig':\n",
      "\tModa - 2\n",
      "\tFrequências - {'1': 71, '2': 130, '3': 85}\n",
      "\n",
      "Atributo 'breast':\n",
      "\tModa - left\n",
      "\tFrequências - {'left': 152, 'right': 134}\n",
      "\n",
      "Atributo 'breast-quad':\n",
      "\tModa - left_low\n",
      "\tFrequências - {'?': 1, 'central': 21, 'left_low': 110, 'left_up': 97, 'right_low': 24, 'right_up': 33}\n",
      "\n",
      "Atributo 'irradiat':\n",
      "\tModa - no\n",
      "\tFrequências - {'no': 218, 'yes': 68}\n",
      "Atributo 'age':\n",
      "\tIntervalo - 10.0\n",
      "\tAmplitude - 60\n",
      "\tVariância - 101.66418946906752\n",
      "\tDesvio-padrão - 10.082866133648087\n",
      "\n",
      "Atributo 'tumor-size':\n",
      "\tIntervalo - 5.0\n",
      "\tAmplitude - 55\n",
      "\tVariância - 110.10087473502108\n",
      "\tDesvio-padrão - 10.492896393990607\n",
      "\n",
      "Atributo 'inv-nodes':\n",
      "\tIntervalo - 1.7142857142857142\n",
      "\tAmplitude - 12\n",
      "\tVariância - 11.83260641797227\n",
      "\tDesvio-padrão - 3.439855580976078\n",
      "\n",
      "Atributo 'deg-malig':\n",
      "\tIntervalo - 1.0\n",
      "\tAmplitude - 3\n",
      "Atributo 'age':\n",
      "\tObliquidade - 16.142820168062148\n",
      "\tCurtose - 24576.387724063854\n",
      "\n",
      "Atributo 'tumor-size':\n",
      "\tObliquidade - 64.13882893500798\n",
      "\tCurtose - 36364.962815452665\n",
      "\n",
      "Atributo 'inv-nodes':\n",
      "\tObliquidade - 118.63441146947883\n",
      "\tCurtose - 1818.1424299088899\n",
      "Atributo 'age':\n",
      "\tCramér V - 0.4644975326295142\n",
      "\n",
      "Atributo 'menopause':\n",
      "\tCramér V - 0.38313133749660716\n",
      "\n",
      "Atributo 'tumor-size':\n",
      "\tCramér V - 0.5482786986351035\n",
      "\n",
      "Atributo 'inv-nodes':\n",
      "\tCramér V - 0.45584527189064444\n",
      "\n",
      "Atributo 'node-caps':\n",
      "\tCramér V - 0.4654433220963999\n",
      "\tCoeficiente Fi - -0.11294530761424883\n",
      "\n",
      "Atributo 'deg-malig':\n",
      "\tCramér V - 0.4144685234433767\n",
      "\n",
      "Atributo 'breast':\n",
      "\tCramér V - 0.3659224533759179\n",
      "\tCoeficiente Fi - 0.12066715867130647\n",
      "\n",
      "Atributo 'breast-quad':\n",
      "\tCramér V - 0.47112938545381144\n",
      "\n",
      "Atributo 'irradiat':\n",
      "\tCramér V - 0.44842517201144005\n",
      "\tCoeficiente Fi - 0.2835162502049321\n",
      "Foram feitas 11 reduções por redundância.\n",
      "Balanço inicial da tabela de teste: 21.666666666666668% minoritária\n",
      "Balanço esperado: 20.804195804195803% minoritária\n",
      "\n",
      "Diferença: -0.8624708624708646%\n",
      "\n",
      "Não foi preciso fazer o balanceamento da base.\n",
      "Foram feitas 6 limpezas no basnco de dados.\n",
      "['lt40', 'ge40', 'premeno']\n",
      "['left_up', 'left_low', 'right_up', 'right_low', 'central']\n",
      "Tipos de entrada possíveis por coluna:\n",
      "[[True, False], [1, 2, 3, 4, 5, 6, 7, 8, 9], [True, False], [True, False], [True, False], [1, 2, 3, 4, 5, 6, 7, 8, 9, 10, 11, 12], [1, 2, 3, 4, 5, 6, 7, 8, 9, 10, 11, 12, 13], [True, False], [1, 2, 3], [True, False], [True, False], [True, False], [True, False], [True, False], [True, False], [True, False]]\n",
      "\n",
      "Tipos de cada atributos:\n",
      "{'Class': 'qualitativo binário', 'age': 'qualitativo ordinal', 'lt40': 'qualitativo binário', 'ge40': 'qualitativo binário', 'premeno': 'qualitativo binário', 'tumor-size': 'qualitativo ordinal', 'inv-nodes': 'qualitativo ordinal', 'node-caps': 'qualitativo binário', 'deg-malig': 'qualitativo ordinal', 'breast': 'qualitativo binário', 'left-up': 'qualitativo binário', 'left-low': 'qualitativo binário', 'right-up': 'qualitativo binário', 'right-low': 'qualitativo binário', 'central': 'qualitativo binário', 'irradiat': 'qualitativo binário'}\n",
      "\n",
      "Número de atributos atual: 16\n"
     ]
    }
   ],
   "source": [
    "# Puxar as informações tratadas do projeto anterior\n",
    "import prj02\n",
    "import random\n",
    "\n",
    "tabTreino = prj02.tabTreino\n",
    "tabTeste = prj02.tabTeste\n",
    "tiposEntr = prj02.tiposEntr"
   ]
  },
  {
   "cell_type": "markdown",
   "id": "842fa6df-04ad-4272-acbf-9da980de81d4",
   "metadata": {},
   "source": [
    "# Parte 1: Definir da técnica de validação a ser utilizada (cross-validation, hold-out, leave-one-out, etc)\n",
    "\n",
    "Inicialmente usa hold-out (dividir a base de treino em 2/3).\n",
    "\n",
    "Futuramente usa leave-one-out (rodar com cada linha como a base de validação), pois a base de treino já é pequena (cerca de 191 linhas)."
   ]
  },
  {
   "cell_type": "code",
   "execution_count": 4,
   "id": "ca57cc84-5d89-40b4-87c7-004519b27c18",
   "metadata": {
    "scrolled": true
   },
   "outputs": [],
   "source": [
    "# Parte 1.1: criar o algoritmo das separações de validação\n",
    "\n",
    "treinoHoldOut = []\n",
    "avaliacaoHoldOut = []\n",
    "\n",
    "# Inicialmente é o método Hold-Out\n",
    "# Já foi feita uma função de separação de grupos no trabalho anterior\n",
    "tabs = prj02.separarTabelas(tabTreino)\n",
    "treinoHoldOut = tabs[0]\n",
    "avaliacaoHoldOut = tabs[1]\n",
    "\n",
    "# Depois, foi aplicado o método Leave-one-out, mais condizente com a base de dados"
   ]
  },
  {
   "cell_type": "code",
   "execution_count": 6,
   "id": "c52506b2-3d00-477e-8057-0bd00432a5fb",
   "metadata": {},
   "outputs": [
    {
     "name": "stdout",
     "output_type": "stream",
     "text": [
      "[['premeno' 'ge40' 'premeno' ... 'premeno' 'ge40' 'premeno']\n",
      " ['20-24' '30-34' '20-24' ... '15-19' '0-4' '15-19']\n",
      " ['0-2' '0-2' '3-5' ... '0-2' '0-2' '0-2']\n",
      " ...\n",
      " ['right' 'right' 'left' ... 'right' 'left' 'left']\n",
      " ['right_up' 'left_up' 'left_low' ... 'central' 'left_up' 'left_low']\n",
      " ['no' 'no' 'no' ... 'no' 'no' 'no']]\n"
     ]
    }
   ],
   "source": [
    "# Adequar as bases de dados ao sklearn\n",
    "from sklearn import linear_model\n",
    "import numpy as np\n",
    "\n",
    "setY_treino = np.array(treinoHoldOut[0])\n",
    "treinoHoldOut.pop(0)\n",
    "setX_treino = np.array(treinoHoldOut)\n",
    "print(setX_treino)\n",
    "\n",
    "modelo_Linear = linear_model.LinearRegression()\n",
    "modelo_Linear.fit(setX_treino, setY_treino)"
   ]
  },
  {
   "cell_type": "markdown",
   "id": "c7f04280-8cb4-4a52-8ba7-8cfe7a802c67",
   "metadata": {},
   "source": [
    "# Parte 2: Definir as métricas para a avaliação do modelo (acurácia, precisão, recall, matriz de confusão, etc)\n",
    "\n",
    "Devido ao tamanho pequeno da base, já foi definido que a acurácia não é muito relevante para esta análise, e que a precisão e o recall devem ser mais visados nesse caso.\n",
    "\n",
    "Fórmulas:\n",
    "- Recall (sensibilidade): VP / (VP + FN)\n",
    "- Precisão (Especificidade): VN / (VN + FP)"
   ]
  },
  {
   "cell_type": "code",
   "execution_count": null,
   "id": "15c21654-f874-442c-8a4a-86f0700af930",
   "metadata": {},
   "outputs": [],
   "source": [
    "# Parte 2.1: criar os algoritmos para calcular as métricas de avaliação da base\n",
    "\n"
   ]
  }
 ],
 "metadata": {
  "kernelspec": {
   "display_name": "Python 3 (ipykernel)",
   "language": "python",
   "name": "python3"
  },
  "language_info": {
   "codemirror_mode": {
    "name": "ipython",
    "version": 3
   },
   "file_extension": ".py",
   "mimetype": "text/x-python",
   "name": "python",
   "nbconvert_exporter": "python",
   "pygments_lexer": "ipython3",
   "version": "3.10.12"
  }
 },
 "nbformat": 4,
 "nbformat_minor": 5
}
