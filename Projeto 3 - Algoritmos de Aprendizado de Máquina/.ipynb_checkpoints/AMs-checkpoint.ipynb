{
 "cells": [
  {
   "cell_type": "markdown",
   "id": "f5683def-19d9-44ac-9e7a-abe8828172e1",
   "metadata": {},
   "source": [
    "# Bruno R. Batista - Projeto 3: Algoritmos de Aprendizado de Máquina\n",
    "\n",
    "Base de dados analisada: Breast Cancer (#9)\n",
    "\n",
    "Arquivo anterior (tratamento de dados): prj02.py"
   ]
  },
  {
   "cell_type": "code",
   "execution_count": 14,
   "id": "0d555f14-1e8c-449d-b3bd-a56899629d01",
   "metadata": {},
   "outputs": [
    {
     "name": "stdout",
     "output_type": "stream",
     "text": [
      "[[True, False], [1, 2, 3, 4, 5, 6, 7, 8, 9], [True, False], [True, False], [True, False], [1, 2, 3, 4, 5, 6, 7, 8, 9, 10, 11, 12], [1, 2, 3, 4, 5, 6, 7, 8, 9, 10, 11, 12, 13], [True, False], [1, 2, 3], [True, False], [True, False], [True, False], [True, False], [True, False], [True, False], [True, False]]\n"
     ]
    }
   ],
   "source": [
    "# Puxar as informações tratadas do projeto anterior\n",
    "import prj02\n",
    "\n",
    "tabTreino = prj02.tabTreino\n",
    "tabTeste = prj02.tabTeste\n",
    "tiposEntr = prj02.tiposEntr"
   ]
  },
  {
   "cell_type": "markdown",
   "id": "842fa6df-04ad-4272-acbf-9da980de81d4",
   "metadata": {},
   "source": [
    "# Parte 1: Definir da técnica de validação a ser utilizada (cross-validation, hold-out, leave-one-out, etc)\n",
    "\n",
    "Inicialmente usa hold-out (dividir a base de treino em 2/3).\n",
    "\n",
    "Futuramente usa leave-one-out (rodar com cada linha como a base de validação), pois a base de treino já é pequena (cerca de 191 linhas)."
   ]
  },
  {
   "cell_type": "markdown",
   "id": "bc136565-4e2d-4fd4-98bd-01df4728b9f1",
   "metadata": {},
   "source": []
  }
 ],
 "metadata": {
  "kernelspec": {
   "display_name": "Python 3 (ipykernel)",
   "language": "python",
   "name": "python3"
  },
  "language_info": {
   "codemirror_mode": {
    "name": "ipython",
    "version": 3
   },
   "file_extension": ".py",
   "mimetype": "text/x-python",
   "name": "python",
   "nbconvert_exporter": "python",
   "pygments_lexer": "ipython3",
   "version": "3.10.12"
  }
 },
 "nbformat": 4,
 "nbformat_minor": 5
}
