{
 "cells": [
  {
   "cell_type": "markdown",
   "id": "f5683def-19d9-44ac-9e7a-abe8828172e1",
   "metadata": {},
   "source": [
    "# Bruno R. Batista - Projeto 3: Algoritmos de Aprendizado de Máquina\n",
    "\n",
    "Base de dados analisada: Breast Cancer (#9)\n",
    "\n",
    "Arquivo anterior (tratamento de dados): prj02.py"
   ]
  },
  {
   "cell_type": "code",
   "execution_count": 1,
   "id": "80b3ad9c-308b-4006-b7c3-737afc02b197",
   "metadata": {},
   "outputs": [],
   "source": [
    "#pip install scikit-learn"
   ]
  },
  {
   "cell_type": "code",
   "execution_count": 2,
   "id": "5397a06a-d6e5-4bf8-be3d-8753aa6f1ebc",
   "metadata": {},
   "outputs": [],
   "source": [
    "#pip install numpy==1.24.0"
   ]
  },
  {
   "cell_type": "code",
   "execution_count": 6,
   "id": "0d555f14-1e8c-449d-b3bd-a56899629d01",
   "metadata": {
    "scrolled": true
   },
   "outputs": [
    {
     "ename": "IndentationError",
     "evalue": "unindent does not match any outer indentation level (prj02.py, line 357)",
     "output_type": "error",
     "traceback": [
      "Traceback \u001b[0;36m(most recent call last)\u001b[0m:\n",
      "\u001b[0m  File \u001b[1;32m/usr/local/lib/python3.10/dist-packages/IPython/core/interactiveshell.py:3577\u001b[0m in \u001b[1;35mrun_code\u001b[0m\n    exec(code_obj, self.user_global_ns, self.user_ns)\u001b[0m\n",
      "\u001b[0;36m  Cell \u001b[0;32mIn[6], line 2\u001b[0;36m\n\u001b[0;31m    import prj02\u001b[0;36m\n",
      "\u001b[0;36m  File \u001b[0;32m~/Documentos/GitHub/InteligenciaArtificial-7oPeriodo/Projeto 3 - Algoritmos de Aprendizado de Máquina/prj02.py:357\u001b[0;36m\u001b[0m\n\u001b[0;31m    for col in tabIni:\u001b[0m\n\u001b[0m                      ^\u001b[0m\n\u001b[0;31mIndentationError\u001b[0m\u001b[0;31m:\u001b[0m unindent does not match any outer indentation level\n"
     ]
    }
   ],
   "source": [
    "# Puxar as informações tratadas do projeto anterior\n",
    "import prj02\n",
    "import random\n",
    "\n",
    "tabTreino = prj02.novoTreino\n",
    "print(tabTreino)\n",
    "tabTeste = prj02.tabTeste\n",
    "tiposEntr = prj02.tiposEntr\n",
    "\n",
    "# Transformar os valores booleanos em 0s e 1s\n",
    "# O sklearn só funciona com inteiros\n",
    "for col in range(0,len(tabTreino)):\n",
    "    if type(tabTreino[col][0]) != type(1):\n",
    "        for linha in range(0,len(tabTreino[col])):\n",
    "            valor = tabTreino[col][linha]\n",
    "            if type(valor) == bool:\n",
    "                if valor: tabTreino[col][linha] = 1\n",
    "                else: tabTreino[col][linha] = 0\n",
    "            elif type(valor) == str: \n",
    "                tabTreino[col][linha] = int(valor)"
   ]
  },
  {
   "cell_type": "markdown",
   "id": "842fa6df-04ad-4272-acbf-9da980de81d4",
   "metadata": {},
   "source": [
    "# Parte 1: Definir da técnica de validação a ser utilizada (cross-validation, hold-out, leave-one-out, etc)\n",
    "\n",
    "Inicialmente usa hold-out (dividir a base de treino em 2/3).\n",
    "\n",
    "Futuramente usa leave-one-out (rodar com cada linha como a base de validação), pois a base de treino já é pequena (cerca de 191 linhas)."
   ]
  },
  {
   "cell_type": "code",
   "execution_count": null,
   "id": "ca57cc84-5d89-40b4-87c7-004519b27c18",
   "metadata": {
    "scrolled": true
   },
   "outputs": [],
   "source": [
    "# Parte 1.1: criar o algoritmo das separações de validação\n",
    "\n",
    "treinoHoldOut = []\n",
    "avaliacaoHoldOut = []\n",
    "\n",
    "# Inicialmente é o método Hold-Out\n",
    "# Já foi feita uma função de separação de grupos no trabalho anterior\n",
    "tabs = separarTabelas(tabTreino)\n",
    "treinoHoldOut = tabs[0]\n",
    "avaliacaoHoldOut = tabs[1]\n",
    "\n",
    "# Depois, foi aplicado o método Leave-one-out, mais condizente com a base de dados"
   ]
  },
  {
   "cell_type": "code",
   "execution_count": null,
   "id": "c52506b2-3d00-477e-8057-0bd00432a5fb",
   "metadata": {},
   "outputs": [],
   "source": [
    "# Adequar as bases de dados ao sklearn\n",
    "from sklearn import linear_model\n",
    "import numpy as np\n",
    "                \n",
    "setY_treino = treinoHoldOut.pop(0)\n",
    "setX_treino = list(zip(treinoHoldOut[0],treinoHoldOut[1],treinoHoldOut[2],treinoHoldOut[3],\n",
    "                       treinoHoldOut[4],treinoHoldOut[5],treinoHoldOut[6],treinoHoldOut[7],\n",
    "                       treinoHoldOut[8],treinoHoldOut[9],treinoHoldOut[10],treinoHoldOut[11],\n",
    "                       treinoHoldOut[12],treinoHoldOut[13],treinoHoldOut[14]))\n",
    "\n",
    "modelo_Linear = linear_model.LinearRegression()\n",
    "modelo_Linear.fit(setX_treino, list(setY_treino))"
   ]
  },
  {
   "cell_type": "markdown",
   "id": "c7f04280-8cb4-4a52-8ba7-8cfe7a802c67",
   "metadata": {},
   "source": [
    "# Parte 2: Definir as métricas para a avaliação do modelo (acurácia, precisão, recall, matriz de confusão, etc)\n",
    "\n",
    "Devido ao tamanho pequeno da base, já foi definido que a acurácia não é muito relevante para esta análise, e que a precisão e o recall devem ser mais visados nesse caso.\n",
    "\n",
    "Fórmulas:\n",
    "- Recall (sensibilidade): VP / (VP + FN)\n",
    "- Precisão (Especificidade): VN / (VN + FP)"
   ]
  },
  {
   "cell_type": "code",
   "execution_count": null,
   "id": "15c21654-f874-442c-8a4a-86f0700af930",
   "metadata": {},
   "outputs": [],
   "source": [
    "# Parte 2.1: criar os algoritmos para calcular as métricas de avaliação da base\n",
    "\n",
    "# Preparar o conjunto de avaliação do modelo\n",
    "setY_avaliacao = avaliacaoHoldOut.pop(0)\n",
    "setX_avaliacao = list(zip(avaliacaoHoldOut[0],avaliacaoHoldOut[1],avaliacaoHoldOut[2],avaliacaoHoldOut[3],\n",
    "                       avaliacaoHoldOut[4],avaliacaoHoldOut[5],avaliacaoHoldOut[6],avaliacaoHoldOut[7],\n",
    "                       avaliacaoHoldOut[8],avaliacaoHoldOut[9],avaliacaoHoldOut[10],avaliacaoHoldOut[11],\n",
    "                       avaliacaoHoldOut[12],avaliacaoHoldOut[13],avaliacaoHoldOut[14]))\n",
    "\n",
    "modelo_linear.predict(setX_avaliacao)"
   ]
  },
  {
   "cell_type": "code",
   "execution_count": null,
   "id": "0508e732-8a58-41c6-be1b-eae8900cc6fb",
   "metadata": {},
   "outputs": [],
   "source": []
  },
  {
   "cell_type": "code",
   "execution_count": null,
   "id": "0652d8bb-950a-4af3-9ef7-364b0549f6ab",
   "metadata": {},
   "outputs": [],
   "source": []
  }
 ],
 "metadata": {
  "kernelspec": {
   "display_name": "Python 3 (ipykernel)",
   "language": "python",
   "name": "python3"
  },
  "language_info": {
   "codemirror_mode": {
    "name": "ipython",
    "version": 3
   },
   "file_extension": ".py",
   "mimetype": "text/x-python",
   "name": "python",
   "nbconvert_exporter": "python",
   "pygments_lexer": "ipython3",
   "version": "3.10.12"
  }
 },
 "nbformat": 4,
 "nbformat_minor": 5
}
