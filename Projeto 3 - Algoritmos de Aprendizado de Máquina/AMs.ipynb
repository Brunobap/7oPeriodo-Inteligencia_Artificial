{
 "cells": [
  {
   "cell_type": "markdown",
   "id": "f5683def-19d9-44ac-9e7a-abe8828172e1",
   "metadata": {},
   "source": [
    "# Bruno R. Batista - Projeto 3: Algoritmos de Aprendizado de Máquina\n",
    "\n",
    "Base de dados analisada: Breast Cancer (#9)\n",
    "\n",
    "Arquivo anterior (tratamento de dados): prj02.py"
   ]
  },
  {
   "cell_type": "code",
   "execution_count": 15,
   "id": "0d555f14-1e8c-449d-b3bd-a56899629d01",
   "metadata": {},
   "outputs": [],
   "source": [
    "# Puxar as informações tratadas do projeto anterior\n",
    "import prj02\n",
    "\n",
    "tabTreino = prj02.tabTreino\n",
    "tabTeste = prj02.tabTeste\n",
    "tiposEntr = prj02.tiposEntr"
   ]
  },
  {
   "cell_type": "markdown",
   "id": "842fa6df-04ad-4272-acbf-9da980de81d4",
   "metadata": {},
   "source": [
    "# Parte 1: Definir da técnica de validação a ser utilizada (cross-validation, hold-out, leave-one-out, etc)\n",
    "\n",
    "Inicialmente usa hold-out (dividir a base de treino em 2/3).\n",
    "\n",
    "Futuramente usa leave-one-out (rodar com cada linha como a base de validação), pois a base de treino já é pequena (cerca de 191 linhas)."
   ]
  },
  {
   "cell_type": "code",
   "execution_count": 19,
   "id": "ca57cc84-5d89-40b4-87c7-004519b27c18",
   "metadata": {},
   "outputs": [
    {
     "ename": "IndexError",
     "evalue": "list index out of range",
     "output_type": "error",
     "traceback": [
      "\u001b[0;31m---------------------------------------------------------------------------\u001b[0m",
      "\u001b[0;31mIndexError\u001b[0m                                Traceback (most recent call last)",
      "Cell \u001b[0;32mIn[19], line 6\u001b[0m\n\u001b[1;32m      4\u001b[0m \u001b[38;5;28;01mfor\u001b[39;00m i \u001b[38;5;129;01min\u001b[39;00m \u001b[38;5;28mrange\u001b[39m(\u001b[38;5;241m0\u001b[39m,\u001b[38;5;28mlen\u001b[39m(tiposEntr)): treinoHoldOut\u001b[38;5;241m.\u001b[39mappend([])\n\u001b[1;32m      5\u001b[0m \u001b[38;5;28;01mfor\u001b[39;00m x \u001b[38;5;129;01min\u001b[39;00m \u001b[38;5;28mrange\u001b[39m(\u001b[38;5;241m0\u001b[39m,\u001b[38;5;28mlen\u001b[39m(tabTreino[\u001b[38;5;241m0\u001b[39m])):\n\u001b[0;32m----> 6\u001b[0m     \u001b[38;5;28;01mfor\u001b[39;00m y \u001b[38;5;129;01min\u001b[39;00m \u001b[38;5;28mrange\u001b[39m(\u001b[38;5;241m0\u001b[39m,\u001b[38;5;28mlen\u001b[39m(tabTreino[\u001b[38;5;241m1\u001b[39m])): treinoHoldOut[x]\u001b[38;5;241m.\u001b[39mappend(tabTreino[x][y]) \n\u001b[1;32m      8\u001b[0m \u001b[38;5;28mprint\u001b[39m(treinoHoldOut)\n",
      "\u001b[0;31mIndexError\u001b[0m: list index out of range"
     ]
    }
   ],
   "source": [
    "# Parte 1.1: criar o algoritmo das separações de validação\n",
    "\n",
    "treinoHoldOut = []\n",
    "for i in range(0,len(tiposEntr)): treinoHoldOut.append([])\n",
    "for x in range(0,len(tabTreino[0])):\n",
    "    for y in range(0,len(tabTreino[1])): treinoHoldOut[x].append(tabTreino[x][y]) \n",
    "\n",
    "print(treinoHoldOut)"
   ]
  },
  {
   "cell_type": "code",
   "execution_count": null,
   "id": "15c21654-f874-442c-8a4a-86f0700af930",
   "metadata": {},
   "outputs": [],
   "source": []
  }
 ],
 "metadata": {
  "kernelspec": {
   "display_name": "Python 3 (ipykernel)",
   "language": "python",
   "name": "python3"
  },
  "language_info": {
   "codemirror_mode": {
    "name": "ipython",
    "version": 3
   },
   "file_extension": ".py",
   "mimetype": "text/x-python",
   "name": "python",
   "nbconvert_exporter": "python",
   "pygments_lexer": "ipython3",
   "version": "3.10.12"
  }
 },
 "nbformat": 4,
 "nbformat_minor": 5
}
