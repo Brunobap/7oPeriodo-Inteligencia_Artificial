{
 "cells": [
  {
   "cell_type": "markdown",
   "id": "f5683def-19d9-44ac-9e7a-abe8828172e1",
   "metadata": {},
   "source": [
    "# Bruno R. Batista - Projeto 3: Algoritmos de Aprendizado de Máquina\n",
    "\n",
    "Base de dados analisada: Breast Cancer (#9)\n",
    "\n",
    "Arquivo anterior (tratamento de dados): prj02.py"
   ]
  },
  {
   "cell_type": "code",
   "execution_count": 1,
   "id": "80b3ad9c-308b-4006-b7c3-737afc02b197",
   "metadata": {},
   "outputs": [],
   "source": [
    "#pip install scikit-learn"
   ]
  },
  {
   "cell_type": "code",
   "execution_count": 2,
   "id": "5397a06a-d6e5-4bf8-be3d-8753aa6f1ebc",
   "metadata": {},
   "outputs": [],
   "source": [
    "#pip install numpy==1.24.0"
   ]
  },
  {
   "cell_type": "code",
   "execution_count": 3,
   "id": "0d555f14-1e8c-449d-b3bd-a56899629d01",
   "metadata": {
    "scrolled": true
   },
   "outputs": [
    {
     "name": "stdout",
     "output_type": "stream",
     "text": [
      "Dados carregados\n",
      "\n",
      "Tipos de entrada possíveis por coluna:\n",
      "[['no-recurrence-events', 'recurrence-events'], ['10-19', '20-29', '30-39', '40-49', '50-59', '60-69', '70-79', '80-89', '90-99'], ['lt40', 'ge40', 'premeno'], ['0-4', '5-9', '10-14', '15-19', '20-24', '25-29', '30-34', '35-39', '40-44', '45-49', '50-54', '55-59'], ['0-2', '3-5', '6-8', '9-11', '12-14', '15-17', '18-20', '21-23', '24-26', '27-29', '30-32', '33-35', '36-39'], ['yes', 'no'], ['1', '2', '3'], ['left', 'right'], ['left_up', 'left_low', 'right_up', 'right_low', 'central'], ['no', 'yes']]\n",
      "\n",
      "Tipos de cada atributos:\n",
      "{'Class': 'qualitativo nominal', 'age': 'qualitativo intervalar', 'menopause': 'qualitativo nominal', 'tumor-size': 'qualitativo intervalar', 'inv-nodes': 'qualitativo intervalar', 'node-caps': 'qualitativo nominal', 'deg-malig': 'qualitativo ordinal', 'breast': 'qualitativo nominal', 'breast-quad': 'qualitativo nominal', 'irradiat': 'qualitativo nominal'}\n",
      "Atributo 'Class':\n",
      "\tModa - no-recurrence-events\n",
      "\tFrequências - {'no-recurrence-events': 201, 'recurrence-events': 85}\n",
      "\n",
      "Atributo 'age':\n",
      "\tMédia ponderada - 51.14335664335665\n",
      "\tMediana - 54.5\n",
      "\tFrequências - {'20-29': 1, '30-39': 36, '40-49': 90, '50-59': 96, '60-69': 57, '70-79': 6}\n",
      "\tQuartil 1 (25%) - 44.5\n",
      "\tQuartil 2 (50%) - 54.5\n",
      "\tQuartil 3 (75%) - 64.5\n",
      "\n",
      "Atributo 'menopause':\n",
      "\tModa - premeno\n",
      "\tFrequências - {'ge40': 129, 'lt40': 7, 'premeno': 150}\n",
      "\n",
      "Atributo 'tumor-size':\n",
      "\tMédia ponderada - 26.405594405594407\n",
      "\tMediana - 37.0\n",
      "\tFrequências - {'0-4': 8, '10-14': 28, '15-19': 30, '20-24': 50, '25-29': 54, '30-34': 60, '35-39': 19, '40-44': 22, '45-49': 3, '5-9': 4, '50-54': 8}\n",
      "\tQuartil 1 (25%) - 17.0\n",
      "\tQuartil 2 (50%) - 37.0\n",
      "\tQuartil 3 (75%) - 22.0\n",
      "\n",
      "Atributo 'inv-nodes':\n",
      "\tMédia ponderada - 2.5734265734265733\n",
      "\tMediana - 1.0\n",
      "\tFrequências - {'0-2': 213, '12-14': 3, '15-17': 6, '24-26': 1, '3-5': 36, '6-8': 17, '9-11': 10}\n",
      "\tQuartil 1 (25%) - 1.0\n",
      "\tQuartil 2 (50%) - 1.0\n",
      "\tQuartil 3 (75%) - 1.0\n",
      "\n",
      "Atributo 'node-caps':\n",
      "\tModa - no\n",
      "\tFrequências - {'?': 8, 'no': 222, 'yes': 56}\n",
      "\n",
      "Atributo 'deg-malig':\n",
      "\tModa - 2\n",
      "\tFrequências - {'1': 71, '2': 130, '3': 85}\n",
      "\n",
      "Atributo 'breast':\n",
      "\tModa - left\n",
      "\tFrequências - {'left': 152, 'right': 134}\n",
      "\n",
      "Atributo 'breast-quad':\n",
      "\tModa - left_low\n",
      "\tFrequências - {'?': 1, 'central': 21, 'left_low': 110, 'left_up': 97, 'right_low': 24, 'right_up': 33}\n",
      "\n",
      "Atributo 'irradiat':\n",
      "\tModa - no\n",
      "\tFrequências - {'no': 218, 'yes': 68}\n",
      "Atributo 'age':\n",
      "\tIntervalo - 10.0\n",
      "\tAmplitude - 60\n",
      "\tVariância - 101.66418946906752\n",
      "\tDesvio-padrão - 10.082866133648087\n",
      "\n",
      "Atributo 'tumor-size':\n",
      "\tIntervalo - 5.0\n",
      "\tAmplitude - 55\n",
      "\tVariância - 110.10087473502108\n",
      "\tDesvio-padrão - 10.492896393990607\n",
      "\n",
      "Atributo 'inv-nodes':\n",
      "\tIntervalo - 1.7142857142857142\n",
      "\tAmplitude - 12\n",
      "\tVariância - 11.83260641797227\n",
      "\tDesvio-padrão - 3.439855580976078\n",
      "\n",
      "Atributo 'deg-malig':\n",
      "\tIntervalo - 1.0\n",
      "\tAmplitude - 3\n",
      "Atributo 'age':\n",
      "\tObliquidade - 16.142820168062148\n",
      "\tCurtose - 24576.387724063854\n",
      "\n",
      "Atributo 'tumor-size':\n",
      "\tObliquidade - 64.13882893500798\n",
      "\tCurtose - 36364.962815452665\n",
      "\n",
      "Atributo 'inv-nodes':\n",
      "\tObliquidade - 118.63441146947883\n",
      "\tCurtose - 1818.1424299088899\n",
      "Atributo 'age':\n",
      "\tCramér V - 0.4644975326295142\n",
      "\n",
      "Atributo 'menopause':\n",
      "\tCramér V - 0.38313133749660716\n",
      "\n",
      "Atributo 'tumor-size':\n",
      "\tCramér V - 0.5482786986351035\n",
      "\n",
      "Atributo 'inv-nodes':\n",
      "\tCramér V - 0.45584527189064444\n",
      "\n",
      "Atributo 'node-caps':\n",
      "\tCramér V - 0.4654433220963999\n",
      "\tCoeficiente Fi - -0.11294530761424883\n",
      "\n",
      "Atributo 'deg-malig':\n",
      "\tCramér V - 0.4144685234433767\n",
      "\n",
      "Atributo 'breast':\n",
      "\tCramér V - 0.3659224533759179\n",
      "\tCoeficiente Fi - 0.12066715867130647\n",
      "\n",
      "Atributo 'breast-quad':\n",
      "\tCramér V - 0.47112938545381144\n",
      "\n",
      "Atributo 'irradiat':\n",
      "\tCramér V - 0.44842517201144005\n",
      "\tCoeficiente Fi - 0.2835162502049321\n",
      "Foram feitas 11 reduções por redundância.\n",
      "Balanço inicial da tabela de teste: 21.666666666666668% minoritária\n",
      "Balanço esperado: 20.804195804195803% minoritária\n",
      "\n",
      "Diferença: -0.8624708624708646%\n",
      "\n",
      "Não foi preciso fazer o balanceamento da base.\n",
      "Foram feitas 6 limpezas no basnco de dados.\n",
      "['lt40', 'ge40', 'premeno']\n",
      "['left_up', 'left_low', 'right_up', 'right_low', 'central']\n",
      "Tipos de entrada possíveis por coluna:\n",
      "[[True, False], [1, 2, 3, 4, 5, 6, 7, 8, 9], [True, False], [True, False], [True, False], [1, 2, 3, 4, 5, 6, 7, 8, 9, 10, 11, 12], [1, 2, 3, 4, 5, 6, 7, 8, 9, 10, 11, 12, 13], [True, False], [1, 2, 3], [True, False], [True, False], [True, False], [True, False], [True, False], [True, False], [True, False]]\n",
      "\n",
      "Tipos de cada atributos:\n",
      "{'Class': 'qualitativo binário', 'age': 'qualitativo ordinal', 'lt40': 'qualitativo binário', 'ge40': 'qualitativo binário', 'premeno': 'qualitativo binário', 'tumor-size': 'qualitativo ordinal', 'inv-nodes': 'qualitativo ordinal', 'node-caps': 'qualitativo binário', 'deg-malig': 'qualitativo ordinal', 'breast': 'qualitativo binário', 'left-up': 'qualitativo binário', 'left-low': 'qualitativo binário', 'right-up': 'qualitativo binário', 'right-low': 'qualitativo binário', 'central': 'qualitativo binário', 'irradiat': 'qualitativo binário'}\n",
      "\n",
      "Número de atributos atual: 16\n"
     ]
    }
   ],
   "source": [
    "# Puxar as informações tratadas do projeto anterior\n",
    "import prj02\n",
    "import random\n",
    "\n",
    "tabTreino = prj02.novoTreino\n",
    "tabTeste = prj02.tabTeste\n",
    "tiposEntr = prj02.tiposEntr"
   ]
  },
  {
   "cell_type": "markdown",
   "id": "842fa6df-04ad-4272-acbf-9da980de81d4",
   "metadata": {},
   "source": [
    "# Parte 1: Definir da técnica de validação a ser utilizada (cross-validation, hold-out, leave-one-out, etc)\n",
    "\n",
    "Inicialmente usa hold-out (dividir a base de treino em 2/3).\n",
    "\n",
    "Futuramente usa leave-one-out (rodar com cada linha como a base de validação), pois a base de treino já é pequena (cerca de 191 linhas)."
   ]
  },
  {
   "cell_type": "code",
   "execution_count": 4,
   "id": "ca57cc84-5d89-40b4-87c7-004519b27c18",
   "metadata": {
    "scrolled": true
   },
   "outputs": [],
   "source": [
    "# Parte 1.1: criar o algoritmo das separações de validação\n",
    "\n",
    "treinoHoldOut = []\n",
    "avaliacaoHoldOut = []\n",
    "\n",
    "# Inicialmente é o método Hold-Out\n",
    "# Já foi feita uma função de separação de grupos no trabalho anterior\n",
    "tabs = prj02.separarTabelas(tabTreino)\n",
    "treinoHoldOut = tabs[0]\n",
    "avaliacaoHoldOut = tabs[1]\n",
    "\n",
    "# Depois, foi aplicado o método Leave-one-out, mais condizente com a base de dados"
   ]
  },
  {
   "cell_type": "code",
   "execution_count": 5,
   "id": "c52506b2-3d00-477e-8057-0bd00432a5fb",
   "metadata": {},
   "outputs": [
    {
     "ename": "ValueError",
     "evalue": "dtype='numeric' is not compatible with arrays of bytes/strings.Convert your data to numeric values explicitly instead.",
     "output_type": "error",
     "traceback": [
      "\u001b[0;31m---------------------------------------------------------------------------\u001b[0m",
      "\u001b[0;31mValueError\u001b[0m                                Traceback (most recent call last)",
      "Cell \u001b[0;32mIn[5], line 8\u001b[0m\n\u001b[1;32m      5\u001b[0m setX_treino \u001b[38;5;241m=\u001b[39m treinoHoldOut\n\u001b[1;32m      7\u001b[0m modelo_Linear \u001b[38;5;241m=\u001b[39m linear_model\u001b[38;5;241m.\u001b[39mLinearRegression()\n\u001b[0;32m----> 8\u001b[0m \u001b[43mmodelo_Linear\u001b[49m\u001b[38;5;241;43m.\u001b[39;49m\u001b[43mfit\u001b[49m\u001b[43m(\u001b[49m\u001b[43msetX_treino\u001b[49m\u001b[43m,\u001b[49m\u001b[43m \u001b[49m\u001b[43msetY_treino\u001b[49m\u001b[43m)\u001b[49m\n",
      "File \u001b[0;32m~/.local/lib/python3.10/site-packages/sklearn/base.py:1473\u001b[0m, in \u001b[0;36m_fit_context.<locals>.decorator.<locals>.wrapper\u001b[0;34m(estimator, *args, **kwargs)\u001b[0m\n\u001b[1;32m   1466\u001b[0m     estimator\u001b[38;5;241m.\u001b[39m_validate_params()\n\u001b[1;32m   1468\u001b[0m \u001b[38;5;28;01mwith\u001b[39;00m config_context(\n\u001b[1;32m   1469\u001b[0m     skip_parameter_validation\u001b[38;5;241m=\u001b[39m(\n\u001b[1;32m   1470\u001b[0m         prefer_skip_nested_validation \u001b[38;5;129;01mor\u001b[39;00m global_skip_validation\n\u001b[1;32m   1471\u001b[0m     )\n\u001b[1;32m   1472\u001b[0m ):\n\u001b[0;32m-> 1473\u001b[0m     \u001b[38;5;28;01mreturn\u001b[39;00m \u001b[43mfit_method\u001b[49m\u001b[43m(\u001b[49m\u001b[43mestimator\u001b[49m\u001b[43m,\u001b[49m\u001b[43m \u001b[49m\u001b[38;5;241;43m*\u001b[39;49m\u001b[43margs\u001b[49m\u001b[43m,\u001b[49m\u001b[43m \u001b[49m\u001b[38;5;241;43m*\u001b[39;49m\u001b[38;5;241;43m*\u001b[39;49m\u001b[43mkwargs\u001b[49m\u001b[43m)\u001b[49m\n",
      "File \u001b[0;32m~/.local/lib/python3.10/site-packages/sklearn/linear_model/_base.py:609\u001b[0m, in \u001b[0;36mLinearRegression.fit\u001b[0;34m(self, X, y, sample_weight)\u001b[0m\n\u001b[1;32m    605\u001b[0m n_jobs_ \u001b[38;5;241m=\u001b[39m \u001b[38;5;28mself\u001b[39m\u001b[38;5;241m.\u001b[39mn_jobs\n\u001b[1;32m    607\u001b[0m accept_sparse \u001b[38;5;241m=\u001b[39m \u001b[38;5;28;01mFalse\u001b[39;00m \u001b[38;5;28;01mif\u001b[39;00m \u001b[38;5;28mself\u001b[39m\u001b[38;5;241m.\u001b[39mpositive \u001b[38;5;28;01melse\u001b[39;00m [\u001b[38;5;124m\"\u001b[39m\u001b[38;5;124mcsr\u001b[39m\u001b[38;5;124m\"\u001b[39m, \u001b[38;5;124m\"\u001b[39m\u001b[38;5;124mcsc\u001b[39m\u001b[38;5;124m\"\u001b[39m, \u001b[38;5;124m\"\u001b[39m\u001b[38;5;124mcoo\u001b[39m\u001b[38;5;124m\"\u001b[39m]\n\u001b[0;32m--> 609\u001b[0m X, y \u001b[38;5;241m=\u001b[39m \u001b[38;5;28;43mself\u001b[39;49m\u001b[38;5;241;43m.\u001b[39;49m\u001b[43m_validate_data\u001b[49m\u001b[43m(\u001b[49m\n\u001b[1;32m    610\u001b[0m \u001b[43m    \u001b[49m\u001b[43mX\u001b[49m\u001b[43m,\u001b[49m\n\u001b[1;32m    611\u001b[0m \u001b[43m    \u001b[49m\u001b[43my\u001b[49m\u001b[43m,\u001b[49m\n\u001b[1;32m    612\u001b[0m \u001b[43m    \u001b[49m\u001b[43maccept_sparse\u001b[49m\u001b[38;5;241;43m=\u001b[39;49m\u001b[43maccept_sparse\u001b[49m\u001b[43m,\u001b[49m\n\u001b[1;32m    613\u001b[0m \u001b[43m    \u001b[49m\u001b[43my_numeric\u001b[49m\u001b[38;5;241;43m=\u001b[39;49m\u001b[38;5;28;43;01mTrue\u001b[39;49;00m\u001b[43m,\u001b[49m\n\u001b[1;32m    614\u001b[0m \u001b[43m    \u001b[49m\u001b[43mmulti_output\u001b[49m\u001b[38;5;241;43m=\u001b[39;49m\u001b[38;5;28;43;01mTrue\u001b[39;49;00m\u001b[43m,\u001b[49m\n\u001b[1;32m    615\u001b[0m \u001b[43m    \u001b[49m\u001b[43mforce_writeable\u001b[49m\u001b[38;5;241;43m=\u001b[39;49m\u001b[38;5;28;43;01mTrue\u001b[39;49;00m\u001b[43m,\u001b[49m\n\u001b[1;32m    616\u001b[0m \u001b[43m\u001b[49m\u001b[43m)\u001b[49m\n\u001b[1;32m    618\u001b[0m has_sw \u001b[38;5;241m=\u001b[39m sample_weight \u001b[38;5;129;01mis\u001b[39;00m \u001b[38;5;129;01mnot\u001b[39;00m \u001b[38;5;28;01mNone\u001b[39;00m\n\u001b[1;32m    619\u001b[0m \u001b[38;5;28;01mif\u001b[39;00m has_sw:\n",
      "File \u001b[0;32m~/.local/lib/python3.10/site-packages/sklearn/base.py:650\u001b[0m, in \u001b[0;36mBaseEstimator._validate_data\u001b[0;34m(self, X, y, reset, validate_separately, cast_to_ndarray, **check_params)\u001b[0m\n\u001b[1;32m    648\u001b[0m         y \u001b[38;5;241m=\u001b[39m check_array(y, input_name\u001b[38;5;241m=\u001b[39m\u001b[38;5;124m\"\u001b[39m\u001b[38;5;124my\u001b[39m\u001b[38;5;124m\"\u001b[39m, \u001b[38;5;241m*\u001b[39m\u001b[38;5;241m*\u001b[39mcheck_y_params)\n\u001b[1;32m    649\u001b[0m     \u001b[38;5;28;01melse\u001b[39;00m:\n\u001b[0;32m--> 650\u001b[0m         X, y \u001b[38;5;241m=\u001b[39m \u001b[43mcheck_X_y\u001b[49m\u001b[43m(\u001b[49m\u001b[43mX\u001b[49m\u001b[43m,\u001b[49m\u001b[43m \u001b[49m\u001b[43my\u001b[49m\u001b[43m,\u001b[49m\u001b[43m \u001b[49m\u001b[38;5;241;43m*\u001b[39;49m\u001b[38;5;241;43m*\u001b[39;49m\u001b[43mcheck_params\u001b[49m\u001b[43m)\u001b[49m\n\u001b[1;32m    651\u001b[0m     out \u001b[38;5;241m=\u001b[39m X, y\n\u001b[1;32m    653\u001b[0m \u001b[38;5;28;01mif\u001b[39;00m \u001b[38;5;129;01mnot\u001b[39;00m no_val_X \u001b[38;5;129;01mand\u001b[39;00m check_params\u001b[38;5;241m.\u001b[39mget(\u001b[38;5;124m\"\u001b[39m\u001b[38;5;124mensure_2d\u001b[39m\u001b[38;5;124m\"\u001b[39m, \u001b[38;5;28;01mTrue\u001b[39;00m):\n",
      "File \u001b[0;32m~/.local/lib/python3.10/site-packages/sklearn/utils/validation.py:1301\u001b[0m, in \u001b[0;36mcheck_X_y\u001b[0;34m(X, y, accept_sparse, accept_large_sparse, dtype, order, copy, force_writeable, force_all_finite, ensure_2d, allow_nd, multi_output, ensure_min_samples, ensure_min_features, y_numeric, estimator)\u001b[0m\n\u001b[1;32m   1296\u001b[0m         estimator_name \u001b[38;5;241m=\u001b[39m _check_estimator_name(estimator)\n\u001b[1;32m   1297\u001b[0m     \u001b[38;5;28;01mraise\u001b[39;00m \u001b[38;5;167;01mValueError\u001b[39;00m(\n\u001b[1;32m   1298\u001b[0m         \u001b[38;5;124mf\u001b[39m\u001b[38;5;124m\"\u001b[39m\u001b[38;5;132;01m{\u001b[39;00mestimator_name\u001b[38;5;132;01m}\u001b[39;00m\u001b[38;5;124m requires y to be passed, but the target y is None\u001b[39m\u001b[38;5;124m\"\u001b[39m\n\u001b[1;32m   1299\u001b[0m     )\n\u001b[0;32m-> 1301\u001b[0m X \u001b[38;5;241m=\u001b[39m \u001b[43mcheck_array\u001b[49m\u001b[43m(\u001b[49m\n\u001b[1;32m   1302\u001b[0m \u001b[43m    \u001b[49m\u001b[43mX\u001b[49m\u001b[43m,\u001b[49m\n\u001b[1;32m   1303\u001b[0m \u001b[43m    \u001b[49m\u001b[43maccept_sparse\u001b[49m\u001b[38;5;241;43m=\u001b[39;49m\u001b[43maccept_sparse\u001b[49m\u001b[43m,\u001b[49m\n\u001b[1;32m   1304\u001b[0m \u001b[43m    \u001b[49m\u001b[43maccept_large_sparse\u001b[49m\u001b[38;5;241;43m=\u001b[39;49m\u001b[43maccept_large_sparse\u001b[49m\u001b[43m,\u001b[49m\n\u001b[1;32m   1305\u001b[0m \u001b[43m    \u001b[49m\u001b[43mdtype\u001b[49m\u001b[38;5;241;43m=\u001b[39;49m\u001b[43mdtype\u001b[49m\u001b[43m,\u001b[49m\n\u001b[1;32m   1306\u001b[0m \u001b[43m    \u001b[49m\u001b[43morder\u001b[49m\u001b[38;5;241;43m=\u001b[39;49m\u001b[43morder\u001b[49m\u001b[43m,\u001b[49m\n\u001b[1;32m   1307\u001b[0m \u001b[43m    \u001b[49m\u001b[43mcopy\u001b[49m\u001b[38;5;241;43m=\u001b[39;49m\u001b[43mcopy\u001b[49m\u001b[43m,\u001b[49m\n\u001b[1;32m   1308\u001b[0m \u001b[43m    \u001b[49m\u001b[43mforce_writeable\u001b[49m\u001b[38;5;241;43m=\u001b[39;49m\u001b[43mforce_writeable\u001b[49m\u001b[43m,\u001b[49m\n\u001b[1;32m   1309\u001b[0m \u001b[43m    \u001b[49m\u001b[43mforce_all_finite\u001b[49m\u001b[38;5;241;43m=\u001b[39;49m\u001b[43mforce_all_finite\u001b[49m\u001b[43m,\u001b[49m\n\u001b[1;32m   1310\u001b[0m \u001b[43m    \u001b[49m\u001b[43mensure_2d\u001b[49m\u001b[38;5;241;43m=\u001b[39;49m\u001b[43mensure_2d\u001b[49m\u001b[43m,\u001b[49m\n\u001b[1;32m   1311\u001b[0m \u001b[43m    \u001b[49m\u001b[43mallow_nd\u001b[49m\u001b[38;5;241;43m=\u001b[39;49m\u001b[43mallow_nd\u001b[49m\u001b[43m,\u001b[49m\n\u001b[1;32m   1312\u001b[0m \u001b[43m    \u001b[49m\u001b[43mensure_min_samples\u001b[49m\u001b[38;5;241;43m=\u001b[39;49m\u001b[43mensure_min_samples\u001b[49m\u001b[43m,\u001b[49m\n\u001b[1;32m   1313\u001b[0m \u001b[43m    \u001b[49m\u001b[43mensure_min_features\u001b[49m\u001b[38;5;241;43m=\u001b[39;49m\u001b[43mensure_min_features\u001b[49m\u001b[43m,\u001b[49m\n\u001b[1;32m   1314\u001b[0m \u001b[43m    \u001b[49m\u001b[43mestimator\u001b[49m\u001b[38;5;241;43m=\u001b[39;49m\u001b[43mestimator\u001b[49m\u001b[43m,\u001b[49m\n\u001b[1;32m   1315\u001b[0m \u001b[43m    \u001b[49m\u001b[43minput_name\u001b[49m\u001b[38;5;241;43m=\u001b[39;49m\u001b[38;5;124;43m\"\u001b[39;49m\u001b[38;5;124;43mX\u001b[39;49m\u001b[38;5;124;43m\"\u001b[39;49m\u001b[43m,\u001b[49m\n\u001b[1;32m   1316\u001b[0m \u001b[43m\u001b[49m\u001b[43m)\u001b[49m\n\u001b[1;32m   1318\u001b[0m y \u001b[38;5;241m=\u001b[39m _check_y(y, multi_output\u001b[38;5;241m=\u001b[39mmulti_output, y_numeric\u001b[38;5;241m=\u001b[39my_numeric, estimator\u001b[38;5;241m=\u001b[39mestimator)\n\u001b[1;32m   1320\u001b[0m check_consistent_length(X, y)\n",
      "File \u001b[0;32m~/.local/lib/python3.10/site-packages/sklearn/utils/validation.py:1053\u001b[0m, in \u001b[0;36mcheck_array\u001b[0;34m(array, accept_sparse, accept_large_sparse, dtype, order, copy, force_writeable, force_all_finite, ensure_2d, allow_nd, ensure_min_samples, ensure_min_features, estimator, input_name)\u001b[0m\n\u001b[1;32m   1050\u001b[0m         \u001b[38;5;28;01mraise\u001b[39;00m \u001b[38;5;167;01mValueError\u001b[39;00m(msg)\n\u001b[1;32m   1052\u001b[0m \u001b[38;5;28;01mif\u001b[39;00m dtype_numeric \u001b[38;5;129;01mand\u001b[39;00m \u001b[38;5;28mhasattr\u001b[39m(array\u001b[38;5;241m.\u001b[39mdtype, \u001b[38;5;124m\"\u001b[39m\u001b[38;5;124mkind\u001b[39m\u001b[38;5;124m\"\u001b[39m) \u001b[38;5;129;01mand\u001b[39;00m array\u001b[38;5;241m.\u001b[39mdtype\u001b[38;5;241m.\u001b[39mkind \u001b[38;5;129;01min\u001b[39;00m \u001b[38;5;124m\"\u001b[39m\u001b[38;5;124mUSV\u001b[39m\u001b[38;5;124m\"\u001b[39m:\n\u001b[0;32m-> 1053\u001b[0m     \u001b[38;5;28;01mraise\u001b[39;00m \u001b[38;5;167;01mValueError\u001b[39;00m(\n\u001b[1;32m   1054\u001b[0m         \u001b[38;5;124m\"\u001b[39m\u001b[38;5;124mdtype=\u001b[39m\u001b[38;5;124m'\u001b[39m\u001b[38;5;124mnumeric\u001b[39m\u001b[38;5;124m'\u001b[39m\u001b[38;5;124m is not compatible with arrays of bytes/strings.\u001b[39m\u001b[38;5;124m\"\u001b[39m\n\u001b[1;32m   1055\u001b[0m         \u001b[38;5;124m\"\u001b[39m\u001b[38;5;124mConvert your data to numeric values explicitly instead.\u001b[39m\u001b[38;5;124m\"\u001b[39m\n\u001b[1;32m   1056\u001b[0m     )\n\u001b[1;32m   1057\u001b[0m \u001b[38;5;28;01mif\u001b[39;00m \u001b[38;5;129;01mnot\u001b[39;00m allow_nd \u001b[38;5;129;01mand\u001b[39;00m array\u001b[38;5;241m.\u001b[39mndim \u001b[38;5;241m>\u001b[39m\u001b[38;5;241m=\u001b[39m \u001b[38;5;241m3\u001b[39m:\n\u001b[1;32m   1058\u001b[0m     \u001b[38;5;28;01mraise\u001b[39;00m \u001b[38;5;167;01mValueError\u001b[39;00m(\n\u001b[1;32m   1059\u001b[0m         \u001b[38;5;124m\"\u001b[39m\u001b[38;5;124mFound array with dim \u001b[39m\u001b[38;5;132;01m%d\u001b[39;00m\u001b[38;5;124m. \u001b[39m\u001b[38;5;132;01m%s\u001b[39;00m\u001b[38;5;124m expected <= 2.\u001b[39m\u001b[38;5;124m\"\u001b[39m\n\u001b[1;32m   1060\u001b[0m         \u001b[38;5;241m%\u001b[39m (array\u001b[38;5;241m.\u001b[39mndim, estimator_name)\n\u001b[1;32m   1061\u001b[0m     )\n",
      "\u001b[0;31mValueError\u001b[0m: dtype='numeric' is not compatible with arrays of bytes/strings.Convert your data to numeric values explicitly instead."
     ]
    }
   ],
   "source": [
    "# Adequar as bases de dados ao sklearn\n",
    "from sklearn import linear_model\n",
    "\n",
    "setY_treino = treinoHoldOut.pop(0)\n",
    "setX_treino = treinoHoldOut\n",
    "\n",
    "modelo_Linear = linear_model.LinearRegression()\n",
    "modelo_Linear.fit(setX_treino, setY_treino)"
   ]
  },
  {
   "cell_type": "markdown",
   "id": "c7f04280-8cb4-4a52-8ba7-8cfe7a802c67",
   "metadata": {},
   "source": [
    "# Parte 2: Definir as métricas para a avaliação do modelo (acurácia, precisão, recall, matriz de confusão, etc)\n",
    "\n",
    "Devido ao tamanho pequeno da base, já foi definido que a acurácia não é muito relevante para esta análise, e que a precisão e o recall devem ser mais visados nesse caso.\n",
    "\n",
    "Fórmulas:\n",
    "- Recall (sensibilidade): VP / (VP + FN)\n",
    "- Precisão (Especificidade): VN / (VN + FP)"
   ]
  },
  {
   "cell_type": "code",
   "execution_count": null,
   "id": "15c21654-f874-442c-8a4a-86f0700af930",
   "metadata": {},
   "outputs": [],
   "source": [
    "# Parte 2.1: criar os algoritmos para calcular as métricas de avaliação da base\n",
    "\n"
   ]
  }
 ],
 "metadata": {
  "kernelspec": {
   "display_name": "Python 3 (ipykernel)",
   "language": "python",
   "name": "python3"
  },
  "language_info": {
   "codemirror_mode": {
    "name": "ipython",
    "version": 3
   },
   "file_extension": ".py",
   "mimetype": "text/x-python",
   "name": "python",
   "nbconvert_exporter": "python",
   "pygments_lexer": "ipython3",
   "version": "3.10.12"
  }
 },
 "nbformat": 4,
 "nbformat_minor": 5
}
